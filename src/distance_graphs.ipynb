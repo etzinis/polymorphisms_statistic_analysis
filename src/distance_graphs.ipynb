{
 "cells": [
  {
   "cell_type": "markdown",
   "metadata": {},
   "source": [
    "# Make graphs for the publication in order to visualize the differences between populations \n",
    "## Author: Efthymios Tzinis "
   ]
  },
  {
   "cell_type": "code",
   "execution_count": null,
   "metadata": {
    "collapsed": false
   },
   "outputs": [],
   "source": [
    "# read the data \n",
    "datapath = '../data/distance_pairs_remastered.xlsx'\n",
    "resultpath = '../results/plots/'\n",
    "\n",
    "import pandas as pd\n",
    "from pprint import pprint\n",
    "xls = pd.ExcelFile(datapath)\n",
    "df = xls.parse(xls.sheet_names[0])\n",
    "df.dropna(inplace=True)\n",
    "print df"
   ]
  },
  {
   "cell_type": "code",
   "execution_count": null,
   "metadata": {
    "collapsed": false,
    "scrolled": false
   },
   "outputs": [],
   "source": [
    "# make a dictionary for all populations baased on stats values \n",
    "\n",
    "pval = df.loc[0:7]\n",
    "pval.set_index(['p-value'],inplace=True)\n",
    "pval = pval.to_dict()\n",
    "\n",
    "oddsratio = df.loc[9:]\n",
    "oddsratio.set_index(['p-value'],inplace=True)\n",
    "oddsratio = oddsratio.to_dict()\n",
    "\n",
    "pprint (pval)\n",
    "# pprint (oddsratio)"
   ]
  },
  {
   "cell_type": "code",
   "execution_count": null,
   "metadata": {
    "collapsed": false
   },
   "outputs": [],
   "source": [
    "# plot a radian evenly distributed graph\n",
    "from plotly.graph_objs import *\n",
    "import plotly\n",
    "plotly.offline.init_notebook_mode()\n",
    "import math\n",
    "\n",
    "def plot_graph_in_radius_form(dic,title):\n",
    "    \n",
    "    angle = (2 *math.pi) / len(dic)\n",
    "    nodes_size = 50\n",
    "    data = []\n",
    "    circles = []\n",
    "    radius_offset = 0.25\n",
    "    \n",
    "    back_circles = 5\n",
    "    how_many = 7\n",
    "    for i in range(how_many):\n",
    "        circle ={\n",
    "            'opacity': .5,\n",
    "            'type': 'circle',\n",
    "            'xref': 'x',\n",
    "            'yref': 'y',\n",
    "            'x0': float(-(radius_offset +  i*1.0  / back_circles)),\n",
    "            'y0': float(-(radius_offset +  i*1.0 / back_circles)),\n",
    "            'x1': float(radius_offset +  i*1.0  / back_circles),\n",
    "            'y1': float(radius_offset + i*1.0 / back_circles),\n",
    "            'line': {\n",
    "                'color': 'rgba(190, 190, 190, 1)',\n",
    "            },\n",
    "        }\n",
    "        circles.append(circle)\n",
    "        \n",
    "    trace0 = Scatter(\n",
    "        x = [0],\n",
    "        y = [0],\n",
    "        name = 'SEC',\n",
    "        text = ['SEC'],\n",
    "        mode = 'markers+text',\n",
    "        textposition='center',\n",
    "        marker = dict(\n",
    "            size = [nodes_size]\n",
    "        )\n",
    "    )\n",
    "    \n",
    "    data.append(trace0)\n",
    "    \n",
    "    position_ang = 0\n",
    "    for p,r in dic.items():\n",
    "        new_r = r + radius_offset\n",
    "        trace = plotly.graph_objs.Scatter(\n",
    "            x = [new_r * math.cos(position_ang)],\n",
    "            y = [new_r * math.sin(position_ang)],\n",
    "            name = p,\n",
    "            text = [p],\n",
    "            mode = 'markers+text',\n",
    "            textposition='center',\n",
    "            marker = dict(\n",
    "                size = [nodes_size]\n",
    "            )\n",
    "        )\n",
    "        \n",
    "        data.append(trace)\n",
    "        position_ang += angle\n",
    "\n",
    "    layout = dict(title = title,\n",
    "                  showlegend = False,\n",
    "                    shapes = circles,\n",
    "                  autosize=False,\n",
    "                    width=600,\n",
    "                    height=600,\n",
    "                  yaxis = dict(autorange=True,\n",
    "        showgrid=False,\n",
    "        zeroline=False,\n",
    "        showline=False,\n",
    "        autotick=True,\n",
    "        ticks='',\n",
    "        showticklabels=False),\n",
    "                  xaxis = dict(autorange=True,\n",
    "        showgrid=False,\n",
    "        zeroline=False,\n",
    "        showline=False,\n",
    "        autotick=True,\n",
    "        ticks='',\n",
    "        showticklabels=False)\n",
    "                 )\n",
    "\n",
    "    fig = plotly.graph_objs.Figure(data=data, layout=layout)\n",
    "    plotly.offline.iplot(fig, filename= title)\n",
    "\n"
   ]
  },
  {
   "cell_type": "code",
   "execution_count": null,
   "metadata": {
    "collapsed": false,
    "scrolled": false
   },
   "outputs": [],
   "source": [
    "def compute_radius_pval(dic):\n",
    "    new_dic = {}\n",
    "    for k in dic:\n",
    "        number = str(dic[k])\n",
    "        dist = 1 - float(number.strip(\"<\"))\n",
    "        new_dic[k] = dist\n",
    "    return new_dic\n",
    "\n",
    "# all comparisons are made between: SEC=Southeastern European Caucasian population and other populations  \n",
    "for polym in pval:\n",
    "#     for this polymorphism we create the distance graph based on p-value\n",
    "#     big values for p are related to high\n",
    "    distances_dic = compute_radius_pval(pval[polym])\n",
    "    plot_graph_in_radius_form(distances_dic,polym)"
   ]
  },
  {
   "cell_type": "code",
   "execution_count": null,
   "metadata": {
    "collapsed": false
   },
   "outputs": [],
   "source": [
    "# compute the overall distance from alla the polymorphisms\n",
    "n=0.0\n",
    "overall_dic = None\n",
    "for polym in pval:\n",
    "#     faggreagate distances\n",
    "    distances_dic = compute_radius_pval(pval[polym])\n",
    "    if overall_dic is not None:\n",
    "        for k in overall_dic:\n",
    "            overall_dic[k] += distances_dic[k]\n",
    "    else:\n",
    "        overall_dic = distances_dic\n",
    "    n+=1 \n",
    "for k in overall_dic:\n",
    "    overall_dic[k] /= n\n",
    "# print overall_dic\n",
    "plot_graph_in_radius_form(overall_dic,'Aggregated similarity from all polymorphisms')"
   ]
  },
  {
   "cell_type": "code",
   "execution_count": null,
   "metadata": {
    "collapsed": true
   },
   "outputs": [],
   "source": []
  },
  {
   "cell_type": "code",
   "execution_count": null,
   "metadata": {
    "collapsed": true
   },
   "outputs": [],
   "source": []
  }
 ],
 "metadata": {
  "kernelspec": {
   "display_name": "Python [Root]",
   "language": "python",
   "name": "Python [Root]"
  },
  "language_info": {
   "codemirror_mode": {
    "name": "ipython",
    "version": 2
   },
   "file_extension": ".py",
   "mimetype": "text/x-python",
   "name": "python",
   "nbconvert_exporter": "python",
   "pygments_lexer": "ipython2",
   "version": "2.7.12"
  }
 },
 "nbformat": 4,
 "nbformat_minor": 2
}
