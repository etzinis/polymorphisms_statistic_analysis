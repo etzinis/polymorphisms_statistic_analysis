{
 "cells": [
  {
   "cell_type": "markdown",
   "metadata": {},
   "source": [
    "# Statistical Analysis for distributions of Alleles Greeks only per gender\n",
    "## Author: Efthymios Tzinis"
   ]
  },
  {
   "cell_type": "code",
   "execution_count": null,
   "metadata": {
    "collapsed": false
   },
   "outputs": [],
   "source": [
    "# read the data \n",
    "agg_alleles_datapath = '../data/genotypes_person.xlsx'\n",
    "result_filepath = '../results/greek_allels_per_gender'\n",
    "\n",
    "import pandas as pd\n",
    "from pprint import pprint\n",
    "xls = pd.ExcelFile(agg_alleles_datapath)\n",
    "df = xls.parse(xls.sheet_names[0])\n",
    "polys =  list(df.columns)[2:]\n",
    "print polys\n",
    "pairs_of_allels = [['A','G'],['C','G'],['G','A'],['C','G'],['T','C']]\n",
    "print pairs_of_allels"
   ]
  },
  {
   "cell_type": "code",
   "execution_count": null,
   "metadata": {
    "collapsed": false
   },
   "outputs": [],
   "source": [
    "# do the same procedure for each polymorphism\n",
    "# but first group data per gender\n",
    "df_grouped = df.groupby(['GENDER'])[polys].sum()\n",
    "import numpy as np\n",
    "\n",
    "# gather information about a specific polymorphism for all populations \n",
    "alleles_agg_data = {}\n",
    "\n",
    "for i in range(len(pairs_of_allels)):\n",
    "    alleles = pairs_of_allels[i]\n",
    "    poly = polys[i]\n",
    "    \n",
    "    data = np.empty((2,2))\n",
    "    for j in range(len(alleles)):\n",
    "        data[j][0] = df_grouped[poly].loc['A'].count(alleles[j])\n",
    "        data[j][1] = df_grouped[poly].loc['F'].count(alleles[j])\n",
    "    data = data.astype(int)\n",
    "    \n",
    "    alleles_agg_data[poly] = {}\n",
    "    alleles_agg_data[poly]['data'] = data\n",
    "    alleles_agg_data[poly]['labels'] = alleles"
   ]
  },
  {
   "cell_type": "code",
   "execution_count": null,
   "metadata": {
    "collapsed": true
   },
   "outputs": [],
   "source": [
    "import math\n",
    "import scipy.stats as stats\n",
    "\n",
    "def compute_odds_ratio_CI_95(data,odds_ratio):\n",
    "    val_in_list = list(data.flatten())\n",
    "    val_in_list = map(lambda x: 1/float(x),val_in_list)\n",
    "    sum_of_vals = sum(val_in_list)\n",
    "    \n",
    "    error = 1.96 * math.sqrt(sum_of_vals)\n",
    "    ln_or = math.log(odds_ratio)\n",
    "    \n",
    "    uci = math.exp(ln_or + error)\n",
    "    lci = math.exp(ln_or - error)\n",
    "    \n",
    "    return lci, uci\n",
    "    \n",
    "def compute_odds_ratio(data):\n",
    "    if data[0][1] == 0 or data[1][0] == 0:\n",
    "        return 0\n",
    "    else:\n",
    "        return float(data[0][0] * data[1][1]) / (data[0][1] * data[1][0])\n",
    "\n",
    "def mean_confidence_interval(data, confidence=0.95):\n",
    "    a = 1.0*np.array(data)\n",
    "    n = len(a)\n",
    "    m, se = np.mean(a), scipy.stats.sem(a)\n",
    "    h = se * sp.stats.t._ppf((1+confidence)/2., n-1)\n",
    "    return m, m-h, m+h"
   ]
  },
  {
   "cell_type": "code",
   "execution_count": null,
   "metadata": {
    "collapsed": false
   },
   "outputs": [],
   "source": [
    "import xlwt\n",
    "\n",
    "def get_stats_from_matrix(data):\n",
    "    oddsratio, pval_f = stats.fisher_exact(data)\n",
    "    # print oddsratio, pval_f\n",
    "    # print compute_odds_ratio(obs)\n",
    "    lci, uci = compute_odds_ratio_CI_95(data,oddsratio)\n",
    "    if pval_f < 0.0001:\n",
    "        new_p_str = '< 0.0001'\n",
    "    else:\n",
    "        new_p_str = round(pval_f,4)\n",
    "    return \"{},{},{}-{}\".format(new_p_str,round(oddsratio,4),round(lci,4), round(uci,4))\n",
    "\n",
    "# for each polymorphism just do the same distr. comparisons in between populations \n",
    "def compare_between_populations_for_a_polymorphism(data,labels,poly,book):\n",
    "    \n",
    "    ws = book.add_sheet(str(poly).split(\"/\")[-1])\n",
    "    fout = open(result_filepath+'_'+str(poly).split(\"/\")[-1]+'.txt','w')\n",
    "    header_str = 'Group_1,Group_2,p_value_fischer,odds_ratio,Confidence_Interval_95'\n",
    "    fout.write('Group_1,Group_2,p_value_fischer,odds_ratio,Confidence_Interval_95%\\n')\n",
    "    \n",
    "    for j in range(len(header_str.split(','))):\n",
    "        ws.write(0,j,header_str.split(',')[j])\n",
    "    \n",
    "    i = 1\n",
    "    try: \n",
    "        matrix = data\n",
    "    except:\n",
    "        print \"Polymorphism: {} does not contain comparison tuple {}\".format(poly,comp_tuple)\n",
    "\n",
    "    stats = get_stats_from_matrix(data)\n",
    "    result_str = 'Males'+','+'Females'+','+stats \n",
    "    fout.write(result_str+ \"\\n\")\n",
    "    print result_str\n",
    "        \n",
    "    for j in range(len(result_str.split(','))):\n",
    "        ws.write(i,j,result_str.split(',')[j])\n",
    "\n",
    "    i += 2\n",
    "    \n",
    "    ws.write(i,1,'M')\n",
    "    ws.write(i,2,'F')\n",
    "        \n",
    "    i+=1 \n",
    "    \n",
    "    for z in range(2):\n",
    "        ws.write(i+z,0,labels[z])\n",
    "        \n",
    "    for z in range(data.shape[0]):\n",
    "        for k in range(data.shape[1]):\n",
    "            ws.write(i+z,1+k,data[z][k])\n",
    "\n",
    "        \n",
    "    fout.close()\n",
    "    return book\n",
    "        \n",
    "book = xlwt.Workbook()\n",
    "for poly,v in alleles_agg_data.items():\n",
    "    book = compare_between_populations_for_a_polymorphism(v['data'],v['labels'],poly,book)\n",
    "book.save(result_filepath+'.xls')"
   ]
  },
  {
   "cell_type": "code",
   "execution_count": null,
   "metadata": {
    "collapsed": true
   },
   "outputs": [],
   "source": []
  }
 ],
 "metadata": {
  "kernelspec": {
   "display_name": "Python [Root]",
   "language": "python",
   "name": "Python [Root]"
  },
  "language_info": {
   "codemirror_mode": {
    "name": "ipython",
    "version": 2
   },
   "file_extension": ".py",
   "mimetype": "text/x-python",
   "name": "python",
   "nbconvert_exporter": "python",
   "pygments_lexer": "ipython2",
   "version": "2.7.12"
  }
 },
 "nbformat": 4,
 "nbformat_minor": 2
}
